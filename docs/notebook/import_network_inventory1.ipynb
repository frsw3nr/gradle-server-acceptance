{
 "cells": [
  {
   "cell_type": "code",
   "execution_count": 1,
   "metadata": {},
   "outputs": [
    {
     "name": "stdout",
     "output_type": "stream",
     "text": [
      "/home/psadmin/work/gradle/gradle-server-acceptance/cleansing\n"
     ]
    }
   ],
   "source": [
    "cd '/home/psadmin/work/gradle/gradle-server-acceptance/cleansing'"
   ]
  },
  {
   "cell_type": "code",
   "execution_count": 6,
   "metadata": {
    "collapsed": true
   },
   "outputs": [],
   "source": [
    "import re\n",
    "import os\n",
    "import math\n",
    "import logging\n",
    "from enum import Enum\n",
    "from datetime import datetime\n",
    "from abc import ABCMeta, abstractmethod\n",
    "import json\n",
    "import numpy as np\n",
    "import pandas as pd\n",
    "import dataset as ds\n",
    "from dataset.types import Types\n",
    "from getconfig_cleansing.util import Util\n",
    "from getconfig_cleansing.merge_master import MergeMaster\n",
    "from getconfig_cleansing.inventory.info import InventoryInfo\n",
    "from getconfig_cleansing.inventory.data import InventoryData\n",
    "from getconfig_cleansing.inventory.loader import InventoryLoader\n",
    "from getconfig_cleansing.inventory.collector import InventoryCollector\n",
    "from getconfig_cleansing.inventory.old.loader_v1 import InventoryLoaderV1\n"
   ]
  },
  {
   "cell_type": "code",
   "execution_count": 13,
   "metadata": {},
   "outputs": [
    {
     "data": {
      "text/html": [
       "<div>\n",
       "<style scoped>\n",
       "    .dataframe tbody tr th:only-of-type {\n",
       "        vertical-align: middle;\n",
       "    }\n",
       "\n",
       "    .dataframe tbody tr th {\n",
       "        vertical-align: top;\n",
       "    }\n",
       "\n",
       "    .dataframe thead th {\n",
       "        text-align: right;\n",
       "    }\n",
       "</style>\n",
       "<table border=\"1\" class=\"dataframe\">\n",
       "  <thead>\n",
       "    <tr style=\"text-align: right;\">\n",
       "      <th></th>\n",
       "      <th>No</th>\n",
       "      <th>ホスト名</th>\n",
       "      <th>ドメイン</th>\n",
       "      <th>接続IP</th>\n",
       "      <th>OS名</th>\n",
       "      <th>OSリリース</th>\n",
       "      <th>ネットワーク構成</th>\n",
       "      <th>管理LAN</th>\n",
       "      <th>検査成績</th>\n",
       "      <th>検査結果</th>\n",
       "      <th>備考</th>\n",
       "      <th>getconfig_name</th>\n",
       "      <th>getconfig_project</th>\n",
       "    </tr>\n",
       "  </thead>\n",
       "  <tbody>\n",
       "    <tr>\n",
       "      <th>8</th>\n",
       "      <td>1</td>\n",
       "      <td>router1</td>\n",
       "      <td>Router</td>\n",
       "      <td>192.168.0.254</td>\n",
       "      <td>No data</td>\n",
       "      <td>No data</td>\n",
       "      <td>No data</td>\n",
       "      <td>No data</td>\n",
       "      <td>Not test</td>\n",
       "      <td></td>\n",
       "      <td></td>\n",
       "      <td>rtx_check_sheet</td>\n",
       "      <td>gradle-server-acceptance</td>\n",
       "    </tr>\n",
       "  </tbody>\n",
       "</table>\n",
       "</div>"
      ],
      "text/plain": [
       "  No     ホスト名    ドメイン           接続IP      OS名   OSリリース ネットワーク構成    管理LAN  \\\n",
       "8  1  router1  Router  192.168.0.254  No data  No data  No data  No data   \n",
       "\n",
       "       検査成績 検査結果 備考   getconfig_name         getconfig_project  \n",
       "8  Not test          rtx_check_sheet  gradle-server-acceptance  "
      ]
     },
     "execution_count": 13,
     "metadata": {},
     "output_type": "execute_result"
    }
   ],
   "source": [
    "loader = InventoryLoader()\n",
    "excel = '/home/psadmin/work/gradle/gradle-server-acceptance/build/rtx_check_sheet.xlsx'\n",
    "inventory_info = InventoryCollector().make_inventory_info(excel)\n",
    "inventory_data = loader.read_inventory_sheet(inventory_info)\n",
    "inventory_data.host_list"
   ]
  },
  {
   "cell_type": "code",
   "execution_count": 15,
   "metadata": {},
   "outputs": [
    {
     "data": {
      "text/plain": [
       "['検査対象',\n",
       " '検査レポート',\n",
       " 'エラーレポート',\n",
       " 'チェックシート(Router)',\n",
       " 'テンプレート(Router)',\n",
       " 'RouterRTX_arp']"
      ]
     },
     "execution_count": 15,
     "metadata": {},
     "output_type": "execute_result"
    }
   ],
   "source": [
    "xls = pd.ExcelFile(excel)\n",
    "xls.sheet_names"
   ]
  },
  {
   "cell_type": "code",
   "execution_count": null,
   "metadata": {
    "collapsed": true
   },
   "outputs": [],
   "source": []
  }
 ],
 "metadata": {
  "kernelspec": {
   "display_name": "Python 3",
   "language": "python",
   "name": "python3"
  },
  "language_info": {
   "codemirror_mode": {
    "name": "ipython",
    "version": 3
   },
   "file_extension": ".py",
   "mimetype": "text/x-python",
   "name": "python",
   "nbconvert_exporter": "python",
   "pygments_lexer": "ipython3",
   "version": "3.6.3"
  }
 },
 "nbformat": 4,
 "nbformat_minor": 2
}
