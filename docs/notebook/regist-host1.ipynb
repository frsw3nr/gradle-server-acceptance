{
 "cells": [
  {
   "cell_type": "code",
   "execution_count": 1,
   "metadata": {},
   "outputs": [
    {
     "name": "stdout",
     "output_type": "stream",
     "text": [
      "/home/psadmin/work/gradle/gradle-server-acceptance/cleansing\n"
     ]
    }
   ],
   "source": [
    "cd '/home/psadmin/work/gradle/gradle-server-acceptance/cleansing'"
   ]
  },
  {
   "cell_type": "code",
   "execution_count": 2,
   "metadata": {
    "collapsed": true
   },
   "outputs": [],
   "source": [
    "import pytest\n",
    "import re\n",
    "import sys\n",
    "import os\n",
    "import pytest\n",
    "import numpy as np\n",
    "import pandas as pd\n",
    "import dataset as ds\n",
    "from getconfig_cleansing.util import Util\n",
    "from getconfig_cleansing.config import Config\n",
    "from getconfig_cleansing.merge_master import MergeMaster\n",
    "from getconfig_cleansing.ticket.redmine_repository import RedmineRepository\n",
    "from getconfig_cleansing.ticket.redmine_cache      import RedmineCache\n",
    "from getconfig_cleansing.ticket.redmine_stat       import RedmineStatistics\n",
    "from getconfig_cleansing.ticket.ticket_ia_server   import TicketIAServer"
   ]
  },
  {
   "cell_type": "code",
   "execution_count": 3,
   "metadata": {},
   "outputs": [
    {
     "name": "stdout",
     "output_type": "stream",
     "text": [
      "4\n"
     ]
    }
   ],
   "source": [
    "print (RedmineRepository().get_tracker_id('IAサーバ'))"
   ]
  },
  {
   "cell_type": "code",
   "execution_count": 5,
   "metadata": {},
   "outputs": [
    {
     "name": "stdout",
     "output_type": "stream",
     "text": [
      "Developers\n"
     ]
    }
   ],
   "source": [
    "db = RedmineRepository().redmine\n",
    "groups = db.group.all()\n",
    "for group in groups:\n",
    "    print(group)"
   ]
  },
  {
   "cell_type": "code",
   "execution_count": 11,
   "metadata": {},
   "outputs": [
    {
     "name": "stdout",
     "output_type": "stream",
     "text": [
      "1 Redmine Admin\n",
      "8 John Smith\n",
      "6 テスト1 長い名前の漢字テスト1234567890123456789\n",
      "7 古澤2 実\n"
     ]
    }
   ],
   "source": [
    "users = db.user.all()\n",
    "for user in users:\n",
    "    print(user.id, user)"
   ]
  },
  {
   "cell_type": "code",
   "execution_count": 10,
   "metadata": {},
   "outputs": [
    {
     "data": {
      "text/plain": [
       "<redminelib.resources.User #8 \"John Smith\">"
      ]
     },
     "execution_count": 10,
     "metadata": {},
     "output_type": "execute_result"
    }
   ],
   "source": [
    "user = db.user.create(\n",
    "    login='jsmith',\n",
    "    firstname='John',\n",
    "    lastname='Smith',\n",
    "    mail='john@smith.com'\n",
    ")\n",
    "user"
   ]
  },
  {
   "cell_type": "code",
   "execution_count": 15,
   "metadata": {},
   "outputs": [
    {
     "name": "stdout",
     "output_type": "stream",
     "text": [
      "{'wiki_pages': None, 'memberships': None, 'issue_categories': None, 'time_entries': None, 'versions': None, 'news': None, 'issues': None, 'trackers': None, 'enabled_modules': None, 'id': 1, 'name': 'test1', 'identifier': 'test1', 'description': '', 'status': 1, 'created_on': '2018-08-30T20:45:46Z', 'updated_on': '2018-08-30T20:45:46Z'}\n"
     ]
    }
   ],
   "source": [
    "projects = db.project.all()\n",
    "for project in projects:\n",
    "    print(dict(project))"
   ]
  },
  {
   "cell_type": "code",
   "execution_count": 16,
   "metadata": {},
   "outputs": [
    {
     "data": {
      "text/plain": [
       "True"
      ]
     },
     "execution_count": 16,
     "metadata": {},
     "output_type": "execute_result"
    }
   ],
   "source": [
    "db.user.update(\n",
    "    8,\n",
    "    notified_project_ids=[1],\n",
    ")\n"
   ]
  },
  {
   "cell_type": "code",
   "execution_count": 17,
   "metadata": {
    "collapsed": true
   },
   "outputs": [],
   "source": [
    "membership = db.project_membership.create(project_id='test1', user_id=8, role_ids=[3])\n"
   ]
  },
  {
   "cell_type": "code",
   "execution_count": 18,
   "metadata": {
    "collapsed": true
   },
   "outputs": [
    {
     "data": {
      "text/plain": [
       "{'id': 5,\n",
       " 'project': {'id': 1, 'name': 'test1'},\n",
       " 'roles': [{'id': 3, 'name': '管理者'}],\n",
       " 'user': {'id': 8, 'name': 'John Smith'}}"
      ]
     },
     "execution_count": 18,
     "metadata": {},
     "output_type": "execute_result"
    }
   ],
   "source": [
    "dict(membership)"
   ]
  },
  {
   "cell_type": "code",
   "execution_count": 20,
   "metadata": {},
   "outputs": [
    {
     "data": {
      "text/html": [
       "<div>\n",
       "<style scoped>\n",
       "    .dataframe tbody tr th:only-of-type {\n",
       "        vertical-align: middle;\n",
       "    }\n",
       "\n",
       "    .dataframe tbody tr th {\n",
       "        vertical-align: top;\n",
       "    }\n",
       "\n",
       "    .dataframe thead th {\n",
       "        text-align: right;\n",
       "    }\n",
       "</style>\n",
       "<table border=\"1\" class=\"dataframe\">\n",
       "  <thead>\n",
       "    <tr style=\"text-align: right;\">\n",
       "      <th></th>\n",
       "      <th>搬入日</th>\n",
       "      <th>サイト</th>\n",
       "      <th>ホスト名</th>\n",
       "      <th>機種</th>\n",
       "      <th>S/N</th>\n",
       "      <th>型番</th>\n",
       "      <th>ラック番号</th>\n",
       "      <th>用途</th>\n",
       "      <th>シート</th>\n",
       "    </tr>\n",
       "  </thead>\n",
       "  <tbody>\n",
       "    <tr>\n",
       "      <th>0</th>\n",
       "      <td>2018-07-01</td>\n",
       "      <td>Aサイト</td>\n",
       "      <td>ostrich2</td>\n",
       "      <td>DL380 Gen10</td>\n",
       "      <td>ABC123456A</td>\n",
       "      <td>H-QZZ32A</td>\n",
       "      <td>D10-1</td>\n",
       "      <td>構成管理</td>\n",
       "      <td>1期-Bシステム</td>\n",
       "    </tr>\n",
       "    <tr>\n",
       "      <th>1</th>\n",
       "      <td>2018-07-01</td>\n",
       "      <td>Aサイト</td>\n",
       "      <td>ostrich</td>\n",
       "      <td>DL380 Gen10</td>\n",
       "      <td>ABC123456A</td>\n",
       "      <td>H-QZZ32A</td>\n",
       "      <td>D10-1</td>\n",
       "      <td>構成管理#1</td>\n",
       "      <td>1期-Aシステム</td>\n",
       "    </tr>\n",
       "  </tbody>\n",
       "</table>\n",
       "</div>"
      ],
      "text/plain": [
       "          搬入日   サイト      ホスト名           機種         S/N        型番  ラック番号  \\\n",
       "0  2018-07-01  Aサイト  ostrich2  DL380 Gen10  ABC123456A  H-QZZ32A  D10-1   \n",
       "1  2018-07-01  Aサイト   ostrich  DL380 Gen10  ABC123456A  H-QZZ32A  D10-1   \n",
       "\n",
       "       用途       シート  \n",
       "0    構成管理  1期-Bシステム  \n",
       "1  構成管理#1  1期-Aシステム  "
      ]
     },
     "execution_count": 20,
     "metadata": {},
     "output_type": "execute_result"
    }
   ],
   "source": [
    "df = pd.read_csv('/tmp/ship_list.csv')\n",
    "df"
   ]
  },
  {
   "cell_type": "code",
   "execution_count": null,
   "metadata": {
    "collapsed": true
   },
   "outputs": [],
   "source": []
  }
 ],
 "metadata": {
  "kernelspec": {
   "display_name": "Python 3",
   "language": "python",
   "name": "python3"
  },
  "language_info": {
   "codemirror_mode": {
    "name": "ipython",
    "version": 3
   },
   "file_extension": ".py",
   "mimetype": "text/x-python",
   "name": "python",
   "nbconvert_exporter": "python",
   "pygments_lexer": "ipython3",
   "version": "3.6.3"
  }
 },
 "nbformat": 4,
 "nbformat_minor": 2
}
