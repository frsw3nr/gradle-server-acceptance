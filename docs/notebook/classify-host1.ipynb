{
 "cells": [
  {
   "cell_type": "code",
   "execution_count": 1,
   "metadata": {
    "collapsed": false
   },
   "outputs": [
    {
     "name": "stdout",
     "output_type": "stream",
     "text": [
      "/home/psadmin/work/gradle/gradle-server-acceptance/cleansing\n"
     ]
    }
   ],
   "source": [
    "cd '/home/psadmin/work/gradle/gradle-server-acceptance/cleansing'"
   ]
  },
  {
   "cell_type": "code",
   "execution_count": 2,
   "metadata": {
    "collapsed": true
   },
   "outputs": [],
   "source": [
    "import re\n",
    "import os\n",
    "import math\n",
    "import logging\n",
    "from enum import Enum\n",
    "from datetime import datetime\n",
    "from abc import ABCMeta, abstractmethod\n",
    "import json\n",
    "import numpy as np\n",
    "import pandas as pd\n",
    "import dataset as ds\n",
    "from dataset.types import Types\n",
    "from getconfig_cleansing.util import Util\n",
    "from getconfig_cleansing.config import Config\n",
    "from getconfig_cleansing.merge_master import MergeMaster\n",
    "from getconfig_cleansing.inventory.collector import InventoryCollector\n",
    "from getconfig_cleansing.inventory.table import InventoryTableSet\n",
    "from getconfig_cleansing.inventory.loader import InventoryLoader\n",
    "from getconfig_cleansing.master_data.template.job_list import MasterDataJobList\n",
    "from getconfig_cleansing.master_data.template.ship_list import MasterDataShipList\n",
    "from getconfig_cleansing.master_data.template.mw_list import MasterDataSoftwareList\n",
    "from getconfig_cleansing.master_data.template.net_list import MasterDataNetworkList"
   ]
  },
  {
   "cell_type": "code",
   "execution_count": 5,
   "metadata": {
    "collapsed": false
   },
   "outputs": [
    {
     "name": "stdout",
     "output_type": "stream",
     "text": [
      "cent7\n",
      "eternus1\n",
      "m10\n",
      "m12\n",
      "ostrich\n",
      "                                                          8\n",
      "AdminIP                                               False\n",
      "CPUクロック数                                            3192.61\n",
      "CPUコア数                                                    1\n",
      "CPU数                                                      1\n",
      "IP                                             192.168.10.1\n",
      "MACアドレス                                   00:0c:29:12:34:56\n",
      "MEM容量                                                1.8332\n",
      "NTP                          [ntp:NotConfigured, server:[]]\n",
      "No                                                        1\n",
      "OSリリース                                                  NaN\n",
      "OS名                                      CentOS release 6.7\n",
      "S/N                                              ABC123456A\n",
      "Syslog監視                                         NotSupport\n",
      "アーキテクチャ                                             x86_64 \n",
      "インベントリ名                                          サーバチェックシート\n",
      "ゲートウェイ構成                              [192.168.10.254:eth0]\n",
      "コンソール                                                   CUI\n",
      "サイト                                                    Aサイト\n",
      "サブネット構成   [lo:255.0.0.0, eth0:255.255.255.0, eth0:1:255....\n",
      "システム名                                              構成管理検証#1\n",
      "シリアル                                                    NaN\n",
      "シート                                                1期-Aシステム\n",
      "ジョブ名                                               project1\n",
      "スイッチ名                                               router1\n",
      "ステータス                                             Monitored\n",
      "テンプレート                                  [Template OS Linux]\n",
      "ディスク構成                     [/boot:500M, /:46.5G, [SWAP]:3G]\n",
      "トリガー                                          NotFoundError\n",
      "ドメイン                                    ['Linux', 'Zabbix']\n",
      "ネットワーク構成  [lo:127.0.0.1/8, eth0:192.168.10.1/24, eth0:1:...\n",
      "パッケージ     [alchemist, busybox-anaconda, dmidecode, net-s...\n",
      "ベンダー                                           VMware, Inc.\n",
      "ホストグループ                                             [test1]\n",
      "ボンディング構成  [bonding:Configured, devices:[bond0], options:...\n",
      "ポート名                                                   LAN3\n",
      "モデル名                                                    NaN\n",
      "ラック番号                                                 D10-1\n",
      "上位/下位                                                    上位\n",
      "備考                                                         \n",
      "内臓ディスク                        [1,RAID 1/RAID 1+0,279 GiB:2]\n",
      "利用可能                                              Available\n",
      "型番                                                 H-QZZ32A\n",
      "担当者                                                      古澤\n",
      "接続IP                                           192.168.10.1\n",
      "接続アドレス                            [192.168.10.1, 127.0.0.1]\n",
      "搬入日                                              2018-07-01\n",
      "検査成績                                                 82.4 %\n",
      "検査結果      3 / 17 Failed : [net_route, filesystem, sestatus]\n",
      "機種                                              DL380 Gen10\n",
      "用途                                                   構成管理#1\n",
      "管理LAN                                       [192.168.1.148]\n",
      "納期                                               2018-07-01\n",
      "設置場所                                             Aサイト3F事務所1\n",
      "ostrich2\n",
      "router1\n",
      "vsp1\n",
      "win2012\n"
     ]
    }
   ],
   "source": [
    "hosts = pd.read_csv('tests/resources/classify/host_list.csv')\n",
    "hosts[hosts['ホスト名']=='ostrich'].T\n",
    "# hosts = hosts[hosts['']]\n",
    "host_sets = hosts.groupby(by='ホスト名')\n",
    "for hostname, host_set in host_sets.first().iterrows():\n",
    "    print(hostname)\n",
    "    df = host_sets.get_group(hostname)\n",
    "    if hostname == 'ostrich':\n",
    "        print(df[:][0:1].T)\n",
    "    "
   ]
  },
  {
   "cell_type": "code",
   "execution_count": null,
   "metadata": {
    "collapsed": true
   },
   "outputs": [],
   "source": []
  }
 ],
 "metadata": {
  "kernelspec": {
   "display_name": "Python 3",
   "language": "python",
   "name": "python3"
  },
  "language_info": {
   "codemirror_mode": {
    "name": "ipython",
    "version": 3
   },
   "file_extension": ".py",
   "mimetype": "text/x-python",
   "name": "python",
   "nbconvert_exporter": "python",
   "pygments_lexer": "ipython3",
   "version": "3.6.0"
  }
 },
 "nbformat": 4,
 "nbformat_minor": 2
}
