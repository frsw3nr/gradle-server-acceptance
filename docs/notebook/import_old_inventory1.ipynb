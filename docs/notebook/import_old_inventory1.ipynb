{
 "cells": [
  {
   "cell_type": "code",
   "execution_count": 1,
   "metadata": {},
   "outputs": [
    {
     "name": "stdout",
     "output_type": "stream",
     "text": [
      "/home/psadmin/work/gradle/gradle-server-acceptance/cleansing\n"
     ]
    }
   ],
   "source": [
    "cd '/home/psadmin/work/gradle/gradle-server-acceptance/cleansing'"
   ]
  },
  {
   "cell_type": "code",
   "execution_count": 3,
   "metadata": {
    "collapsed": true
   },
   "outputs": [],
   "source": [
    "import re\n",
    "import os\n",
    "import math\n",
    "import logging\n",
    "from enum import Enum\n",
    "from datetime import datetime\n",
    "from abc import ABCMeta, abstractmethod\n",
    "import json\n",
    "import numpy as np\n",
    "import pandas as pd\n",
    "import dataset as ds\n",
    "from dataset.types import Types\n",
    "from getconfig_cleansing.evidence.util import Util\n",
    "from getconfig_cleansing.evidence.loader_v1 import GetconfigEvidenceV1\n",
    "from getconfig_cleansing.evidence.inventory import InventoryInfo\n"
   ]
  },
  {
   "cell_type": "code",
   "execution_count": 5,
   "metadata": {
    "collapsed": true
   },
   "outputs": [
    {
     "name": "stdout",
     "output_type": "stream",
     "text": [
      "Target\n",
      "CheckSheet(Linux)\n",
      "Index(['Test', 'ID', '項目', '分類', 'デバイス', '採取情報', 'ostrich'], dtype='object')\n",
      "CheckSheet(Windows)\n",
      "Index(['Test', 'ID', '項目', '分類', 'デバイス', '採取情報', 'win2012'], dtype='object')\n",
      "CheckSheet(VMHost)\n",
      "Index(['Test', 'ID', '項目', '分類', 'デバイス', '採取情報'], dtype='object')\n"
     ]
    },
    {
     "name": "stderr",
     "output_type": "stream",
     "text": [
      "/home/psadmin/work/gradle/gradle-server-acceptance/cleansing/getconfig_cleansing/evidence/util.py:90: UserWarning: This pattern has match groups. To actually get the groups, use str.extract.\n",
      "  cond1 = df[column].str.contains(suffix) & \\\n"
     ]
    },
    {
     "name": "stdout",
     "output_type": "stream",
     "text": [
      "Rule\n",
      "vCenter_vm_storage\n",
      "Linux_network\n",
      "Linux_filesystem\n",
      "Linux_user\n",
      "Linux_service\n",
      "Linux_packages\n",
      "Windows_driver\n",
      "Windows_filesystem\n",
      "Windows_user\n",
      "Windows_service\n",
      "Windows_network\n",
      "Windows_firewall\n"
     ]
    },
    {
     "data": {
      "text/plain": [
       "108"
      ]
     },
     "execution_count": 5,
     "metadata": {},
     "output_type": "execute_result"
    }
   ],
   "source": [
    "excel = 'tests/resources/import/old1/build/check_sheet_20170512_143424.xlsx'\n",
    "db = GetconfigEvidenceV1(excel, export_dir='build/tmp')\n",
    "db.load()\n",
    "len(db.df_summary)"
   ]
  },
  {
   "cell_type": "code",
   "execution_count": 153,
   "metadata": {},
   "outputs": [
    {
     "data": {
      "text/html": [
       "<div>\n",
       "<table border=\"1\" class=\"dataframe\">\n",
       "  <thead>\n",
       "    <tr style=\"text-align: right;\">\n",
       "      <th>test_id</th>\n",
       "      <th>cpu_total</th>\n",
       "      <th>lsb</th>\n",
       "      <th>mem_total</th>\n",
       "      <th>uname</th>\n",
       "    </tr>\n",
       "    <tr>\n",
       "      <th>node_name</th>\n",
       "      <th></th>\n",
       "      <th></th>\n",
       "      <th></th>\n",
       "      <th></th>\n",
       "    </tr>\n",
       "  </thead>\n",
       "  <tbody>\n",
       "    <tr>\n",
       "      <th>ostrich</th>\n",
       "      <td>1</td>\n",
       "      <td>[CentOS release 6.7 (Final)]</td>\n",
       "      <td>1922252</td>\n",
       "      <td>Linux ostrich 2.6.32-573.12.1.el6.x86_64</td>\n",
       "    </tr>\n",
       "  </tbody>\n",
       "</table>\n",
       "</div>"
      ],
      "text/plain": [
       "test_id   cpu_total                           lsb mem_total  \\\n",
       "node_name                                                     \n",
       "ostrich           1  [CentOS release 6.7 (Final)]   1922252   \n",
       "\n",
       "test_id                                        uname  \n",
       "node_name                                             \n",
       "ostrich    Linux ostrich 2.6.32-573.12.1.el6.x86_64   "
      ]
     },
     "execution_count": 153,
     "metadata": {},
     "output_type": "execute_result"
    }
   ],
   "source": [
    "df = db.df_summary\n",
    "df = df[df['domain'] == 'Linux']\n",
    "cond = (df['test_id'].isin(['lsb', 'uname', 'cpu_total', 'mem_total']))\n",
    "df2 = df[['node_name', 'test_id', 'value']][cond]\n",
    "df2 = df2.set_index(['node_name', 'test_id'])\n",
    "df2 = df2.unstack(level=0).T.reset_index()\n",
    "del df2['level_0']\n",
    "df2 = df2.set_index('node_name')\n",
    "df2"
   ]
  },
  {
   "cell_type": "code",
   "execution_count": 172,
   "metadata": {},
   "outputs": [
    {
     "data": {
      "text/html": [
       "<div>\n",
       "<table border=\"1\" class=\"dataframe\">\n",
       "  <thead>\n",
       "    <tr style=\"text-align: right;\">\n",
       "      <th>test_id</th>\n",
       "      <th>CPU数</th>\n",
       "      <th>アーキテクチャ</th>\n",
       "      <th>OS名</th>\n",
       "    </tr>\n",
       "    <tr>\n",
       "      <th>node_name</th>\n",
       "      <th></th>\n",
       "      <th></th>\n",
       "      <th></th>\n",
       "    </tr>\n",
       "  </thead>\n",
       "  <tbody>\n",
       "    <tr>\n",
       "      <th>win2012</th>\n",
       "      <td>2</td>\n",
       "      <td>64 ビット</td>\n",
       "      <td>Microsoft Windows Server 2012 R2 Standard 評価版</td>\n",
       "    </tr>\n",
       "  </tbody>\n",
       "</table>\n",
       "</div>"
      ],
      "text/plain": [
       "test_id   CPU数 アーキテクチャ                                            OS名\n",
       "node_name                                                            \n",
       "win2012      2  64 ビット  Microsoft Windows Server 2012 R2 Standard 評価版"
      ]
     },
     "execution_count": 172,
     "metadata": {},
     "output_type": "execute_result"
    }
   ],
   "source": [
    "df = db.df_summary\n",
    "df = df[df['domain'] == 'Windows']\n",
    "cond = (df['test_id'].isin(['os_caption', 'os_architecture', 'cpu_total', 'mem_total']))\n",
    "df2 = df[['node_name', 'test_id', 'value']][cond]\n",
    "df2 = df2.set_index(['node_name', 'test_id'])\n",
    "# 以下のコードだと、unstack後のカラム定義がMultiindexになる。戻し方が不明なため、\n",
    "# 回避策としてunstack + T + reset_indexでカラムを再定義する\n",
    "df2 = df2.unstack(level=0).T.reset_index()\n",
    "del df2['level_0']\n",
    "df2 = df2.set_index('node_name')\n",
    "df2.rename(columns={'os_caption': 'OS名', 'os_architecture': 'アーキテクチャ', \n",
    "                    'cpu_total':'CPU数', 'mem_total':'MEM容量'},\n",
    "           inplace=True)\n",
    "df2"
   ]
  },
  {
   "cell_type": "code",
   "execution_count": 173,
   "metadata": {},
   "outputs": [
    {
     "data": {
      "text/html": [
       "<div>\n",
       "<table border=\"1\" class=\"dataframe\">\n",
       "  <thead>\n",
       "    <tr style=\"text-align: right;\">\n",
       "      <th>test_id</th>\n",
       "      <th>CPU数</th>\n",
       "      <th>アーキテクチャ</th>\n",
       "      <th>OS名</th>\n",
       "      <th>disk</th>\n",
       "    </tr>\n",
       "    <tr>\n",
       "      <th>node_name</th>\n",
       "      <th></th>\n",
       "      <th></th>\n",
       "      <th></th>\n",
       "      <th></th>\n",
       "    </tr>\n",
       "  </thead>\n",
       "  <tbody>\n",
       "    <tr>\n",
       "      <th>win2012</th>\n",
       "      <td>2</td>\n",
       "      <td>64 ビット</td>\n",
       "      <td>Microsoft Windows Server 2012 R2 Standard 評価版</td>\n",
       "      <td>C::42</td>\n",
       "    </tr>\n",
       "  </tbody>\n",
       "</table>\n",
       "</div>"
      ],
      "text/plain": [
       "test_id   CPU数 アーキテクチャ                                            OS名   disk\n",
       "node_name                                                                   \n",
       "win2012      2  64 ビット  Microsoft Windows Server 2012 R2 Standard 評価版  C::42"
      ]
     },
     "execution_count": 173,
     "metadata": {},
     "output_type": "execute_result"
    }
   ],
   "source": [
    "df = db.df_devices['Windows_filesystem']\n",
    "df3 = df[df['device_id']!='NaN']\n",
    "df3['disk'] = df3['device_id'] + ':' + df3['size_gb'].astype(int).astype(str)\n",
    "df3 = df3.pivot(index='node_name', columns='device_id', values='disk')\n",
    "df3 = df3.apply(','.join, axis=1)\n",
    "df2['disk'] = df3\n",
    "df2"
   ]
  },
  {
   "cell_type": "code",
   "execution_count": 164,
   "metadata": {
    "scrolled": true
   },
   "outputs": [
    {
     "data": {
      "text/html": [
       "<div>\n",
       "<table border=\"1\" class=\"dataframe\">\n",
       "  <thead>\n",
       "    <tr style=\"text-align: right;\">\n",
       "      <th>test_id</th>\n",
       "      <th>cpu_total</th>\n",
       "      <th>os_architecture</th>\n",
       "      <th>os_caption</th>\n",
       "      <th>disk</th>\n",
       "    </tr>\n",
       "    <tr>\n",
       "      <th>node_name</th>\n",
       "      <th></th>\n",
       "      <th></th>\n",
       "      <th></th>\n",
       "      <th></th>\n",
       "    </tr>\n",
       "  </thead>\n",
       "  <tbody>\n",
       "    <tr>\n",
       "      <th>win2012</th>\n",
       "      <td>2</td>\n",
       "      <td>64 ビット</td>\n",
       "      <td>Microsoft Windows Server 2012 R2 Standard 評価版</td>\n",
       "      <td>C::42</td>\n",
       "    </tr>\n",
       "  </tbody>\n",
       "</table>\n",
       "</div>"
      ],
      "text/plain": [
       "test_id   cpu_total os_architecture  \\\n",
       "node_name                             \n",
       "win2012           2          64 ビット   \n",
       "\n",
       "test_id                                       os_caption   disk  \n",
       "node_name                                                        \n",
       "win2012    Microsoft Windows Server 2012 R2 Standard 評価版  C::42  "
      ]
     },
     "execution_count": 164,
     "metadata": {},
     "output_type": "execute_result"
    }
   ],
   "source": [
    "df2['disk'] = df3\n",
    "df2"
   ]
  },
  {
   "cell_type": "code",
   "execution_count": 64,
   "metadata": {},
   "outputs": [
    {
     "data": {
      "text/plain": [
       "Series([], dtype: float64)"
      ]
     },
     "execution_count": 64,
     "metadata": {},
     "output_type": "execute_result"
    }
   ],
   "source": [
    "# ディスク構成の読み込み\n",
    "df = db.df_devices['Linux_network']\n",
    "df3 = df[df['ip']!='NaN']\n",
    "df3['net'] = df3['device'] + ':' + df3['ip']\n",
    "df3 = df3.pivot(index='node_name', columns='device', values='net')\n",
    "df3 = df3.apply(','.join, axis=1)\n",
    "df3\n"
   ]
  },
  {
   "cell_type": "code",
   "execution_count": 70,
   "metadata": {},
   "outputs": [
    {
     "data": {
      "text/plain": [
       "node_name\n",
       "win2012    C::42\n",
       "dtype: object"
      ]
     },
     "execution_count": 70,
     "metadata": {},
     "output_type": "execute_result"
    }
   ],
   "source": [
    "df = db.df_devices['Windows_filesystem']\n",
    "df3 = df[df['device_id']!='NaN']\n",
    "df3['disk'] = df3['device_id'] + ':' + df3['size_gb'].astype(int).astype(str)\n",
    "df3 = df3.pivot(index='node_name', columns='device_id', values='disk')\n",
    "df3 = df3.apply(','.join, axis=1)\n",
    "df3"
   ]
  },
  {
   "cell_type": "code",
   "execution_count": null,
   "metadata": {
    "collapsed": true
   },
   "outputs": [],
   "source": []
  }
 ],
 "metadata": {
  "kernelspec": {
   "display_name": "Python 3",
   "language": "python",
   "name": "python3"
  },
  "language_info": {
   "codemirror_mode": {
    "name": "ipython",
    "version": 3
   },
   "file_extension": ".py",
   "mimetype": "text/x-python",
   "name": "python",
   "nbconvert_exporter": "python",
   "pygments_lexer": "ipython3",
   "version": "3.6.3"
  }
 },
 "nbformat": 4,
 "nbformat_minor": 2
}
