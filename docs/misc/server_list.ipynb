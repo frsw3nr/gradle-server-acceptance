{
 "cells": [
  {
   "cell_type": "code",
   "execution_count": 1,
   "metadata": {},
   "outputs": [
    {
     "name": "stdout",
     "output_type": "stream",
     "text": [
      "/home/psadmin/work/DataCleansing\n"
     ]
    }
   ],
   "source": [
    "cd '/home/psadmin/work/DataCleansing'"
   ]
  },
  {
   "cell_type": "code",
   "execution_count": 2,
   "metadata": {},
   "outputs": [],
   "source": [
    "import re\n",
    "import os\n",
    "import logging\n",
    "import datetime\n",
    "import numpy as np\n",
    "import pandas as pd\n",
    "import dataset as ds\n",
    "from cleansing.singleton import singleton\n",
    "from cleansing.stat import Stat\n",
    "from cleansing.util.util import Util\n",
    "from cleansing.util.merge_master import MergeMaster\n",
    "from cleansing.master.master_data import MasterData\n",
    "from cleansing.master.monitor_spec import MasterDataMonitorSpec\n",
    "from cleansing.master.system_code import MasterDataSystemCode\n",
    "from cleansing.master.check_list import MasterDataCheckList\n",
    "from cleansing.master.equipment_pc import MasterDataEquipmentPC\n"
   ]
  },
  {
   "cell_type": "code",
   "execution_count": 58,
   "metadata": {},
   "outputs": [
    {
     "data": {
      "text/plain": [
       "Index(['No', 'ホスト名', 'ドメイン', '接続IP', 'OS名', 'アーキテクチャ', 'CPU数', 'MEM容量',\n",
       "       'ディスク構成', 'ネットワーク構成', '管理LAN', '検査成績', '検査結果', '備考'],\n",
       "      dtype='object')"
      ]
     },
     "execution_count": 58,
     "metadata": {},
     "output_type": "execute_result"
    }
   ],
   "source": [
    "df = pd.read_excel('getconfig/check_sheet.xlsx',\n",
    "                           '検査レポート',\n",
    "                           2)\n",
    "df = df.drop(df.index[0:8])\n",
    "df.columns"
   ]
  },
  {
   "cell_type": "code",
   "execution_count": 25,
   "metadata": {
    "scrolled": true
   },
   "outputs": [
    {
     "data": {
      "text/plain": [
       "[['[lo:127.0.0.1/8', 'eth0:192.168.10.1/24', 'eth0:1:192.168.10.4/24]'],\n",
       " ['[lo:127.0.0.1/8', 'ens160:192.168.0.20/24', 'docker0:172.17.0.1/16]'],\n",
       " ['[192.168.0.24]']]"
      ]
     },
     "execution_count": 25,
     "metadata": {},
     "output_type": "execute_result"
    }
   ],
   "source": [
    "df['ネットワーク構成'].str.split(',\\s').tolist()"
   ]
  },
  {
   "cell_type": "code",
   "execution_count": 37,
   "metadata": {},
   "outputs": [
    {
     "data": {
      "text/plain": [
       "8     lo:127.0.0.1/8, eth0:192.168.10.1/24, eth0:1:1...\n",
       "9     lo:127.0.0.1/8, ens160:192.168.0.20/24, docker...\n",
       "10                                         192.168.0.24\n",
       "Name: ip_addresses, dtype: object"
      ]
     },
     "execution_count": 37,
     "metadata": {},
     "output_type": "execute_result"
    }
   ],
   "source": [
    "# カッコを取り除く\n",
    "df['ips'] = df['ネットワーク構成'].str.extract('\\[(?P<ips>.+)\\]', expand=False)\n",
    "df['ips']"
   ]
  },
  {
   "cell_type": "code",
   "execution_count": 47,
   "metadata": {},
   "outputs": [
    {
     "data": {
      "text/html": [
       "<div>\n",
       "<style scoped>\n",
       "    .dataframe tbody tr th:only-of-type {\n",
       "        vertical-align: middle;\n",
       "    }\n",
       "\n",
       "    .dataframe tbody tr th {\n",
       "        vertical-align: top;\n",
       "    }\n",
       "\n",
       "    .dataframe thead th {\n",
       "        text-align: right;\n",
       "    }\n",
       "</style>\n",
       "<table border=\"1\" class=\"dataframe\">\n",
       "  <thead>\n",
       "    <tr style=\"text-align: right;\">\n",
       "      <th></th>\n",
       "      <th>ip</th>\n",
       "    </tr>\n",
       "  </thead>\n",
       "  <tbody>\n",
       "    <tr>\n",
       "      <th>8</th>\n",
       "      <td>lo:127.0.0.1/8</td>\n",
       "    </tr>\n",
       "    <tr>\n",
       "      <th>8</th>\n",
       "      <td>eth0:192.168.10.1/24</td>\n",
       "    </tr>\n",
       "    <tr>\n",
       "      <th>8</th>\n",
       "      <td>eth0:1:192.168.10.4/24</td>\n",
       "    </tr>\n",
       "    <tr>\n",
       "      <th>9</th>\n",
       "      <td>lo:127.0.0.1/8</td>\n",
       "    </tr>\n",
       "    <tr>\n",
       "      <th>9</th>\n",
       "      <td>ens160:192.168.0.20/24</td>\n",
       "    </tr>\n",
       "    <tr>\n",
       "      <th>9</th>\n",
       "      <td>docker0:172.17.0.1/16</td>\n",
       "    </tr>\n",
       "    <tr>\n",
       "      <th>10</th>\n",
       "      <td>192.168.0.24</td>\n",
       "    </tr>\n",
       "  </tbody>\n",
       "</table>\n",
       "</div>"
      ],
      "text/plain": [
       "                        ip\n",
       "8           lo:127.0.0.1/8\n",
       "8     eth0:192.168.10.1/24\n",
       "8   eth0:1:192.168.10.4/24\n",
       "9           lo:127.0.0.1/8\n",
       "9   ens160:192.168.0.20/24\n",
       "9    docker0:172.17.0.1/16\n",
       "10            192.168.0.24"
      ]
     },
     "execution_count": 47,
     "metadata": {},
     "output_type": "execute_result"
    }
   ],
   "source": [
    "# カンマ区切りで分割して、複数行に展開\n",
    "df1 = pd.DataFrame()\n",
    "df1['ip'] = df.ip_addresses.str.split(',', expand=True).stack().str.strip().reset_index(level=1, drop=True)\n",
    "df1"
   ]
  },
  {
   "cell_type": "code",
   "execution_count": 56,
   "metadata": {},
   "outputs": [],
   "source": [
    "# 先頭、文末の文字列を削除\n",
    "df1['ip'] = df1['ip'].replace('.+:','', regex=True)\n",
    "df1['ip'] = df1['ip'].replace('\\/.+', '', regex=True)"
   ]
  },
  {
   "cell_type": "code",
   "execution_count": 57,
   "metadata": {},
   "outputs": [
    {
     "data": {
      "text/html": [
       "<div>\n",
       "<style scoped>\n",
       "    .dataframe tbody tr th:only-of-type {\n",
       "        vertical-align: middle;\n",
       "    }\n",
       "\n",
       "    .dataframe tbody tr th {\n",
       "        vertical-align: top;\n",
       "    }\n",
       "\n",
       "    .dataframe thead th {\n",
       "        text-align: right;\n",
       "    }\n",
       "</style>\n",
       "<table border=\"1\" class=\"dataframe\">\n",
       "  <thead>\n",
       "    <tr style=\"text-align: right;\">\n",
       "      <th></th>\n",
       "      <th>No</th>\n",
       "      <th>ホスト名</th>\n",
       "      <th>ドメイン</th>\n",
       "      <th>接続IP</th>\n",
       "      <th>OS名</th>\n",
       "      <th>アーキテクチャ</th>\n",
       "      <th>CPU数</th>\n",
       "      <th>MEM容量</th>\n",
       "      <th>ディスク構成</th>\n",
       "      <th>ネットワーク構成</th>\n",
       "      <th>管理LAN</th>\n",
       "      <th>検査成績</th>\n",
       "      <th>検査結果</th>\n",
       "      <th>備考</th>\n",
       "      <th>ip</th>\n",
       "    </tr>\n",
       "  </thead>\n",
       "  <tbody>\n",
       "    <tr>\n",
       "      <th>0</th>\n",
       "      <td>1</td>\n",
       "      <td>ostrich</td>\n",
       "      <td>Linux</td>\n",
       "      <td>192.168.10.1</td>\n",
       "      <td>CentOS release</td>\n",
       "      <td>x86_64</td>\n",
       "      <td>1</td>\n",
       "      <td>1877.2</td>\n",
       "      <td>[/boot:500M, /:46.5G, [SWAP]:3G]</td>\n",
       "      <td>[lo:127.0.0.1/8, eth0:192.168.10.1/24, eth0:1:...</td>\n",
       "      <td>No data</td>\n",
       "      <td>66.7 %</td>\n",
       "      <td>6 / 18 Failed : [meminfo, mem_total, net_route...</td>\n",
       "      <td></td>\n",
       "      <td>127.0.0.1</td>\n",
       "    </tr>\n",
       "    <tr>\n",
       "      <th>1</th>\n",
       "      <td>1</td>\n",
       "      <td>ostrich</td>\n",
       "      <td>Linux</td>\n",
       "      <td>192.168.10.1</td>\n",
       "      <td>CentOS release</td>\n",
       "      <td>x86_64</td>\n",
       "      <td>1</td>\n",
       "      <td>1877.2</td>\n",
       "      <td>[/boot:500M, /:46.5G, [SWAP]:3G]</td>\n",
       "      <td>[lo:127.0.0.1/8, eth0:192.168.10.1/24, eth0:1:...</td>\n",
       "      <td>No data</td>\n",
       "      <td>66.7 %</td>\n",
       "      <td>6 / 18 Failed : [meminfo, mem_total, net_route...</td>\n",
       "      <td></td>\n",
       "      <td>192.168.10.1</td>\n",
       "    </tr>\n",
       "    <tr>\n",
       "      <th>2</th>\n",
       "      <td>1</td>\n",
       "      <td>ostrich</td>\n",
       "      <td>Linux</td>\n",
       "      <td>192.168.10.1</td>\n",
       "      <td>CentOS release</td>\n",
       "      <td>x86_64</td>\n",
       "      <td>1</td>\n",
       "      <td>1877.2</td>\n",
       "      <td>[/boot:500M, /:46.5G, [SWAP]:3G]</td>\n",
       "      <td>[lo:127.0.0.1/8, eth0:192.168.10.1/24, eth0:1:...</td>\n",
       "      <td>No data</td>\n",
       "      <td>66.7 %</td>\n",
       "      <td>6 / 18 Failed : [meminfo, mem_total, net_route...</td>\n",
       "      <td></td>\n",
       "      <td>192.168.10.4</td>\n",
       "    </tr>\n",
       "    <tr>\n",
       "      <th>3</th>\n",
       "      <td>2</td>\n",
       "      <td>cent7</td>\n",
       "      <td>Linux</td>\n",
       "      <td>192.168.0.20</td>\n",
       "      <td>CentOS Linux release</td>\n",
       "      <td>x86_64</td>\n",
       "      <td>1</td>\n",
       "      <td>1839.97</td>\n",
       "      <td>[/boot:500M, /:13.9G, [SWAP]:1.6G]</td>\n",
       "      <td>[lo:127.0.0.1/8, ens160:192.168.0.20/24, docke...</td>\n",
       "      <td>No data</td>\n",
       "      <td>100.0 %</td>\n",
       "      <td></td>\n",
       "      <td></td>\n",
       "      <td>127.0.0.1</td>\n",
       "    </tr>\n",
       "    <tr>\n",
       "      <th>4</th>\n",
       "      <td>2</td>\n",
       "      <td>cent7</td>\n",
       "      <td>Linux</td>\n",
       "      <td>192.168.0.20</td>\n",
       "      <td>CentOS Linux release</td>\n",
       "      <td>x86_64</td>\n",
       "      <td>1</td>\n",
       "      <td>1839.97</td>\n",
       "      <td>[/boot:500M, /:13.9G, [SWAP]:1.6G]</td>\n",
       "      <td>[lo:127.0.0.1/8, ens160:192.168.0.20/24, docke...</td>\n",
       "      <td>No data</td>\n",
       "      <td>100.0 %</td>\n",
       "      <td></td>\n",
       "      <td></td>\n",
       "      <td>192.168.0.20</td>\n",
       "    </tr>\n",
       "    <tr>\n",
       "      <th>5</th>\n",
       "      <td>2</td>\n",
       "      <td>cent7</td>\n",
       "      <td>Linux</td>\n",
       "      <td>192.168.0.20</td>\n",
       "      <td>CentOS Linux release</td>\n",
       "      <td>x86_64</td>\n",
       "      <td>1</td>\n",
       "      <td>1839.97</td>\n",
       "      <td>[/boot:500M, /:13.9G, [SWAP]:1.6G]</td>\n",
       "      <td>[lo:127.0.0.1/8, ens160:192.168.0.20/24, docke...</td>\n",
       "      <td>No data</td>\n",
       "      <td>100.0 %</td>\n",
       "      <td></td>\n",
       "      <td></td>\n",
       "      <td>172.17.0.1</td>\n",
       "    </tr>\n",
       "    <tr>\n",
       "      <th>6</th>\n",
       "      <td>3</td>\n",
       "      <td>win2012</td>\n",
       "      <td>Windows</td>\n",
       "      <td>192.168.0.24</td>\n",
       "      <td>Microsoft Windows Server 2012 R2 Standard 評価版</td>\n",
       "      <td>64 ビット</td>\n",
       "      <td>1</td>\n",
       "      <td>4193848</td>\n",
       "      <td>[C:40]</td>\n",
       "      <td>[192.168.0.24]</td>\n",
       "      <td>No data</td>\n",
       "      <td>61.5 %</td>\n",
       "      <td>5 / 13 Failed : [vm, NumCpu, VMHost, filesyste...</td>\n",
       "      <td></td>\n",
       "      <td>192.168.0.24</td>\n",
       "    </tr>\n",
       "  </tbody>\n",
       "</table>\n",
       "</div>"
      ],
      "text/plain": [
       "  No     ホスト名     ドメイン          接続IP  \\\n",
       "0  1  ostrich    Linux  192.168.10.1   \n",
       "1  1  ostrich    Linux  192.168.10.1   \n",
       "2  1  ostrich    Linux  192.168.10.1   \n",
       "3  2    cent7    Linux  192.168.0.20   \n",
       "4  2    cent7    Linux  192.168.0.20   \n",
       "5  2    cent7    Linux  192.168.0.20   \n",
       "6  3  win2012  Windows  192.168.0.24   \n",
       "\n",
       "                                             OS名  アーキテクチャ CPU数    MEM容量  \\\n",
       "0                                 CentOS release  x86_64     1   1877.2   \n",
       "1                                 CentOS release  x86_64     1   1877.2   \n",
       "2                                 CentOS release  x86_64     1   1877.2   \n",
       "3                           CentOS Linux release  x86_64     1  1839.97   \n",
       "4                           CentOS Linux release  x86_64     1  1839.97   \n",
       "5                           CentOS Linux release  x86_64     1  1839.97   \n",
       "6  Microsoft Windows Server 2012 R2 Standard 評価版   64 ビット    1  4193848   \n",
       "\n",
       "                               ディスク構成  \\\n",
       "0    [/boot:500M, /:46.5G, [SWAP]:3G]   \n",
       "1    [/boot:500M, /:46.5G, [SWAP]:3G]   \n",
       "2    [/boot:500M, /:46.5G, [SWAP]:3G]   \n",
       "3  [/boot:500M, /:13.9G, [SWAP]:1.6G]   \n",
       "4  [/boot:500M, /:13.9G, [SWAP]:1.6G]   \n",
       "5  [/boot:500M, /:13.9G, [SWAP]:1.6G]   \n",
       "6                              [C:40]   \n",
       "\n",
       "                                            ネットワーク構成    管理LAN     検査成績  \\\n",
       "0  [lo:127.0.0.1/8, eth0:192.168.10.1/24, eth0:1:...  No data   66.7 %   \n",
       "1  [lo:127.0.0.1/8, eth0:192.168.10.1/24, eth0:1:...  No data   66.7 %   \n",
       "2  [lo:127.0.0.1/8, eth0:192.168.10.1/24, eth0:1:...  No data   66.7 %   \n",
       "3  [lo:127.0.0.1/8, ens160:192.168.0.20/24, docke...  No data  100.0 %   \n",
       "4  [lo:127.0.0.1/8, ens160:192.168.0.20/24, docke...  No data  100.0 %   \n",
       "5  [lo:127.0.0.1/8, ens160:192.168.0.20/24, docke...  No data  100.0 %   \n",
       "6                                     [192.168.0.24]  No data   61.5 %   \n",
       "\n",
       "                                                検査結果 備考            ip  \n",
       "0  6 / 18 Failed : [meminfo, mem_total, net_route...        127.0.0.1  \n",
       "1  6 / 18 Failed : [meminfo, mem_total, net_route...     192.168.10.1  \n",
       "2  6 / 18 Failed : [meminfo, mem_total, net_route...     192.168.10.4  \n",
       "3                                                           127.0.0.1  \n",
       "4                                                        192.168.0.20  \n",
       "5                                                          172.17.0.1  \n",
       "6  5 / 13 Failed : [vm, NumCpu, VMHost, filesyste...     192.168.0.24  "
      ]
     },
     "execution_count": 57,
     "metadata": {},
     "output_type": "execute_result"
    }
   ],
   "source": [
    "df.drop(['ip_addresses'], axis=1).join(df1).reset_index(drop=True)"
   ]
  },
  {
   "cell_type": "code",
   "execution_count": null,
   "metadata": {
    "collapsed": true
   },
   "outputs": [],
   "source": []
  }
 ],
 "metadata": {
  "kernelspec": {
   "display_name": "Python 3",
   "language": "python",
   "name": "python3"
  },
  "language_info": {
   "codemirror_mode": {
    "name": "ipython",
    "version": 3
   },
   "file_extension": ".py",
   "mimetype": "text/x-python",
   "name": "python",
   "nbconvert_exporter": "python",
   "pygments_lexer": "ipython3",
   "version": "3.6.3"
  }
 },
 "nbformat": 4,
 "nbformat_minor": 2
}
